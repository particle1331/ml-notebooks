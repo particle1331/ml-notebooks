{
 "cells": [
  {
   "cell_type": "markdown",
   "id": "c01a5fad",
   "metadata": {
    "papermill": {
     "duration": 0.006806,
     "end_time": "2025-01-13T14:20:52.747812",
     "exception": false,
     "start_time": "2025-01-13T14:20:52.741006",
     "status": "completed"
    },
    "tags": []
   },
   "source": [
    "# Language modeling"
   ]
  },
  {
   "cell_type": "markdown",
   "id": "d459ef31",
   "metadata": {
    "papermill": {
     "duration": 0.004701,
     "end_time": "2025-01-13T14:20:52.758238",
     "exception": false,
     "start_time": "2025-01-13T14:20:52.753537",
     "status": "completed"
    },
    "tags": []
   },
   "source": [
    "Estimating the joint probability $p(\\boldsymbol{\\mathsf x}_1, \\ldots,\\boldsymbol{\\mathsf x}_T)$ of a sequence prove useful for various reasons. This is called *language modeling*.\n",
    "For instance, machine translation or ASR systems generate sequences by optimizing for the most probable ones. In particular, models which predicts the next element of a sequence are referred to as a **language model** (LM). Recall that we can write a joint distribution as a chain of conditional distributions:"
   ]
  },
  {
   "cell_type": "markdown",
   "id": "f9cf9475",
   "metadata": {
    "papermill": {
     "duration": 0.003052,
     "end_time": "2025-01-13T14:20:52.764447",
     "exception": false,
     "start_time": "2025-01-13T14:20:52.761395",
     "status": "completed"
    },
    "tags": []
   },
   "source": [
    "$$\n",
    "p(\\boldsymbol{\\mathsf x}_1, \\ldots,\\boldsymbol{\\mathsf x}_T) = p(\\boldsymbol{\\mathsf x}_1) \\prod_{t = 2}^{T} p(\\boldsymbol{\\mathsf x}_{t} \\mid \\boldsymbol{\\mathsf x}_{1}, \\ldots, \\boldsymbol{\\mathsf x}_{t-1}).\n",
    "$$\n",
    "\n",
    "Hence, the output of a model for discrete data must be a distribution $p(\\boldsymbol{\\mathsf x}_{t} \\mid \\boldsymbol{\\mathsf x}_{1}, \\ldots, \\boldsymbol{\\mathsf x}_{t-1})$ for each token instead of expected values for regression models. In practice, this means that we need to have a finite collection of valid tokens called a **vocabulary**. Then, we can generate text, simply by drawing one token at a time $\\boldsymbol{\\mathsf{x}}_t \\sim p(\\cdot \\mid \\boldsymbol{\\mathsf{x}}_1, \\ldots, \\boldsymbol{\\mathsf{x}}_{t-1})$. For example,\n",
    "\n",
    "$$\n",
    "\\begin{aligned}\n",
    "&\\;p(\\text{deep}, \\text{learning}, \\text{is}, \\text{fun}) \\\\\n",
    "=& \\;p(\\text{deep}) \\cdot p(\\text{learning} \\mid \\text{deep}) \\cdot p(\\text{is} \\mid \\text{deep}, \\text{learning}) \\cdot p(\\text{fun} \\mid \\text{deep}, \\text{learning}, \\text{is}).\n",
    "\\end{aligned}\n",
    "$$\n",
    "\n",
    "The probabilities can be estimated using [relative frequencies](https://en.wikipedia.org/wiki/Empirical_probability) perhaps with [Laplace smoothing](https://en.wikipedia.org/wiki/Additive_smoothing):\n",
    "\n",
    "$$\n",
    "p(\\text{deep} \\mid \\text{learning}) \\approx \\frac{\\#(\\text{deep},\\, \\text{learning}) + \\kappa}{\\#(\\text{learning}) + \\kappa|\\mathcal{V}|}\n",
    "$$ \n",
    "\n",
    "where $\\kappa > 0$ can be thought of as *pseudo-count*. Observe that the smoothing parameter $\\kappa$ acts as a regularizer when $\\kappa \\gg 1,$ where the distribution becomes uniform. Moreover, we usually truncate the context to a fixed number of terms as a Markov hypothesis, and because *n*-grams become sparse in naturally occuring text as *n* increases."
   ]
  },
  {
   "cell_type": "markdown",
   "id": "bc4b0149",
   "metadata": {
    "papermill": {
     "duration": 0.003118,
     "end_time": "2025-01-13T14:20:52.770617",
     "exception": false,
     "start_time": "2025-01-13T14:20:52.767499",
     "status": "completed"
    },
    "tags": []
   },
   "source": [
    "<br>\n",
    "\n",
    "## Perplexity"
   ]
  },
  {
   "cell_type": "markdown",
   "id": "09de4865",
   "metadata": {
    "papermill": {
     "duration": 0.002694,
     "end_time": "2025-01-13T14:20:52.776298",
     "exception": false,
     "start_time": "2025-01-13T14:20:52.773604",
     "status": "completed"
    },
    "tags": []
   },
   "source": [
    "Next, we need a generic metric to measure the quality of the language model.\n",
    "One way is to check how *surprising* the text is.\n",
    "A good language model is able to predict, with high accuracy, the tokens that come next.\n",
    "Consider the following continuations of the phrase \"It is sunny\", as proposed by three different language models:\n",
    "\n",
    "```text\n",
    "1. It is sunny outside\n",
    "2. It is sunny banana tree\n",
    "3. It is sunny soiupt;mkj ldfosim\n",
    "```\n",
    "\n",
    "The first example is clearly the best, although not necessarily factual or accurate, model predicts kind of word correctly. The next is nonsensical, but at least model has learned some degree of correlation between words ('banana' and 'tree'). Finally, the last example \n",
    "indicates poor training.\n",
    "\n",
    "To evaluate a language model, we can use the cross-entropy on the next token which is equivalent to maximizing the likelihood of a text. We normalize this over the number of tokens predicted. For example, we evaluate the model on contexts of variable length $\\delta = 1, \\ldots, T$ starting from $\\boldsymbol{\\mathsf{x}}_{t}$:\n",
    "\n",
    "$$\n",
    "\\mathcal{L} = -\\frac{1}{n}\\sum_{t}\\sum_{\\delta = 1}^{T} \\log p(\\boldsymbol{\\mathsf{x}}_{t + \\delta} \\mid \\boldsymbol{\\mathsf{x}}_{t}, \\ldots, \\boldsymbol{\\mathsf{x}}_{t + \\delta - 1})\n",
    "$$\n",
    "\n",
    "where $n$ is the number predictions. For a classifier that predicts all tokens uniformly random, then $\\mathcal{L} = \\log |\\mathcal{V}|$ where $\\mathcal{V}$ is the set of tokens. This is a useful baseline. A similarly simple model predicts prior probabilities based on counts of each token in the training data."
   ]
  },
  {
   "cell_type": "code",
   "execution_count": 1,
   "id": "b45c1888",
   "metadata": {
    "execution": {
     "iopub.execute_input": "2025-01-13T14:20:52.782128Z",
     "iopub.status.busy": "2025-01-13T14:20:52.781810Z",
     "iopub.status.idle": "2025-01-13T14:20:53.755412Z",
     "shell.execute_reply": "2025-01-13T14:20:53.754318Z"
    },
    "papermill": {
     "duration": 0.980656,
     "end_time": "2025-01-13T14:20:53.759323",
     "exception": false,
     "start_time": "2025-01-13T14:20:52.778667",
     "status": "completed"
    },
    "tags": []
   },
   "outputs": [
    {
     "name": "stdout",
     "output_type": "stream",
     "text": [
      "tensor(3.3711)\n",
      "3.332204510175204\n"
     ]
    }
   ],
   "source": [
    "import math\n",
    "import torch\n",
    "import torch.nn.functional as F\n",
    "\n",
    "# Reduction over B × T elements\n",
    "B, C, T = 32, 28, 128\n",
    "print(F.cross_entropy(torch.rand(B, C, T), target=torch.randint(C, size=(B, T))))\n",
    "print(math.log(C))"
   ]
  },
  {
   "cell_type": "markdown",
   "id": "c41fd286",
   "metadata": {
    "papermill": {
     "duration": 0.003135,
     "end_time": "2025-01-13T14:20:53.766018",
     "exception": false,
     "start_time": "2025-01-13T14:20:53.762883",
     "status": "completed"
    },
    "tags": []
   },
   "source": [
    "Historically, researchers in NLP have also used *perplexity* (PP) which is simply the exponential of the cross-entropy:\n",
    "\n",
    "$$\n",
    "\\text{PP} = \\exp\\left(-\\frac{1}{n}\\sum_{t}\\sum_{\\delta = 1}^{T} \\log p(\\boldsymbol{\\mathsf{x}}_{t + \\delta} \\mid \\boldsymbol{\\mathsf{x}}_{t}, \\ldots, \\boldsymbol{\\mathsf{x}}_{t + \\delta - 1})\\right).\n",
    "$$"
   ]
  },
  {
   "cell_type": "markdown",
   "id": "696fa65f",
   "metadata": {
    "papermill": {
     "duration": 0.004722,
     "end_time": "2025-01-13T14:20:53.772575",
     "exception": false,
     "start_time": "2025-01-13T14:20:53.767853",
     "status": "completed"
    },
    "tags": []
   },
   "source": [
    "Note that perplexity is equivalent to an inverse likelihood, and to the geometric mean of $\\frac{1}{p(\\boldsymbol{\\mathsf{x}}_t \\mid \\boldsymbol{\\mathsf{x}}_{<t})}$: \n",
    "\n",
    "$$\n",
    "\\text{PP} = \\frac{1}{\\sqrt[n]{\\prod_{t}\\prod_{\\delta = 1}^{T} p(\\boldsymbol{\\mathsf{x}}_{t + \\delta} \\mid \\boldsymbol{\\mathsf{x}}_{[t:\\,t + \\delta-1]})}} = \\sqrt[n]{\\prod_{t}\\prod_{\\delta = 1}^{T} \\frac{1} {p(\\boldsymbol{\\mathsf{x}}_{t + \\delta} \\mid \\boldsymbol{\\mathsf{x}}_{[t:\\,t + \\delta-1]})}}.\n",
    "$$\n",
    "\n",
    "Hence, for a perfect model, $\\text{PP} = 1.$ On the other hand, if the model predicts $p \\approx 0$ for the correct token at one step, then[^1] we get $\\text{PP} = \\infty.$ As a baseline, for a uniformly random model, we have $\\text{PP} = |\\mathcal{V}|.$ This provides a nontrivial upper bound that any useful model must beat. So, we have $\\text{PP}$ values $\\infty > |\\mathcal{V}| \\geq 1$ for the three regimes[^2]. This can be interpreted as the average number of tries to get the correct prediction at each step, e.g. single try for a perfect model.\n",
    "\n",
    "**Remark.** For the sake of concreteness, we evaluated cross-entropy over predictions with context of varying length $\\delta = 1, \\ldots, T$ from $t.$ But we can also use fixed-length contexts, depending on the given task. In general, we simply evaluate cross-entropy over all instances of next-token prediction regardless of the particulars of the prediction process.\n",
    "\n",
    "[^1]: More precisely, for any $\\epsilon > 0$, if $p_{t + \\delta} \\leq \\epsilon$ for some $(t, \\delta)$, then $\\text{PP} \\geq \\epsilon^{-1/n}.$ \n",
    "\n",
    "[^2]: The regimes correspond to $\\infty > \\log |\\mathcal{V}| \\geq 0$ with cross-entropy."
   ]
  },
  {
   "cell_type": "code",
   "execution_count": 2,
   "id": "ac55cea7",
   "metadata": {
    "execution": {
     "iopub.execute_input": "2025-01-13T14:20:53.781674Z",
     "iopub.status.busy": "2025-01-13T14:20:53.781151Z",
     "iopub.status.idle": "2025-01-13T14:20:54.013933Z",
     "shell.execute_reply": "2025-01-13T14:20:53.957599Z"
    },
    "papermill": {
     "duration": 0.243326,
     "end_time": "2025-01-13T14:20:54.017714",
     "exception": false,
     "start_time": "2025-01-13T14:20:53.774388",
     "status": "completed"
    },
    "tags": [
     "remove-cell"
    ]
   },
   "outputs": [],
   "source": [
    "!rm chapter.py; touch chapter.py"
   ]
  }
 ],
 "metadata": {
  "kernelspec": {
   "display_name": ".venv",
   "language": "python",
   "name": "python3"
  },
  "language_info": {
   "codemirror_mode": {
    "name": "ipython",
    "version": 3
   },
   "file_extension": ".py",
   "mimetype": "text/x-python",
   "name": "python",
   "nbconvert_exporter": "python",
   "pygments_lexer": "ipython3",
   "version": "3.12.5"
  },
  "papermill": {
   "default_parameters": {},
   "duration": 3.109638,
   "end_time": "2025-01-13T14:20:54.917952",
   "environment_variables": {},
   "exception": null,
   "input_path": "04-intro.ipynb",
   "output_path": "04-intro.ipynb",
   "parameters": {},
   "start_time": "2025-01-13T14:20:51.808314",
   "version": "2.6.0"
  }
 },
 "nbformat": 4,
 "nbformat_minor": 5
}
