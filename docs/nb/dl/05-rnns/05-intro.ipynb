{
 "cells": [
  {
   "cell_type": "markdown",
   "id": "e508fe60",
   "metadata": {
    "papermill": {
     "duration": 0.00638,
     "end_time": "2025-01-13T14:53:07.531887",
     "exception": false,
     "start_time": "2025-01-13T14:53:07.525507",
     "status": "completed"
    },
    "tags": []
   },
   "source": [
    "# Recurrent Neural Networks"
   ]
  },
  {
   "cell_type": "markdown",
   "id": "4c9e9fee",
   "metadata": {
    "papermill": {
     "duration": 0.002429,
     "end_time": "2025-01-13T14:53:07.544200",
     "exception": false,
     "start_time": "2025-01-13T14:53:07.541771",
     "status": "completed"
    },
    "tags": []
   },
   "source": [
    "In this chapter, we will deal with variable-length sequence data. \n",
    "This is fundamentally different from fixed shape data that we have previously encountered. But variable-length data is abundant in the real-world. Tasks such as translating passages of text from one language to another, \n",
    "engaging in dialogue, or controlling a robot, demand that models both ingest and output sequentially structured data. Here we focus on text data which is our primary interest. In particular, we sample character sequences as training data from a dataset of Spanish names. To increase complexity, we continue with *The Time Machine* (1895) by [H. G. Wells](https://en.wikipedia.org/wiki/H._G._Wells).\n",
    "\n",
    "For sequence modeling, we explore two approaches. In the previous chapter, we used fixed-length windows, or **contexts**, to predict the probability distribution of the next token. This allows us to use familiar models such as CNNs and MLPs. Here we consider processing sequences of arbitrary length. In particular, we introduce **Recurrent Neural Networks** (RNNs) which are neural networks that capture the dynamics of sequences via *recurrent connections* ({numref}`04-rnn`), which can be thought of as cycles that iteratively updates a latent state vector. \n",
    "The resulting hidden representation depend on the specific input order. Hence, RNNs inherit causality from the structure of the text.\n",
    "\n",
    "To understand the challenges of training RNNs, we derive the **BPTT equations** (**B**ack**p**ropagation **T**hrough **T**ime). We will see that RNNs accumulate gradients with depth corresponding to time steps, instead of number of layers for MLPs[^1]. In particular, we will see that RNNs struggle to model long-term dependencies (i.e., tokens that are spaced far apart but share a significant relationship) which manifest as vanishing gradient. This had motivated the development of more advanced RNN architectures (e.g., LSTM {cite}`lstm` and GRU {cite}`gru`) that aim to minimize or address vanishing gradients.\n",
    "\n",
    "[^1]: Both can be formulated in terms of the path length in the computation graph between two nodes that share a dependency."
   ]
  },
  {
   "cell_type": "code",
   "execution_count": 1,
   "id": "ac55cea7",
   "metadata": {
    "execution": {
     "iopub.execute_input": "2025-01-13T14:53:07.550175Z",
     "iopub.status.busy": "2025-01-13T14:53:07.549548Z",
     "iopub.status.idle": "2025-01-13T14:53:07.702424Z",
     "shell.execute_reply": "2025-01-13T14:53:07.700921Z"
    },
    "papermill": {
     "duration": 0.16139,
     "end_time": "2025-01-13T14:53:07.707311",
     "exception": false,
     "start_time": "2025-01-13T14:53:07.545921",
     "status": "completed"
    },
    "tags": [
     "remove-cell"
    ]
   },
   "outputs": [],
   "source": [
    "!rm chapter.py; touch chapter.py"
   ]
  },
  {
   "cell_type": "markdown",
   "id": "b8681261",
   "metadata": {
    "papermill": {
     "duration": 0.001722,
     "end_time": "2025-01-13T14:53:07.711324",
     "exception": false,
     "start_time": "2025-01-13T14:53:07.709602",
     "status": "completed"
    },
    "tags": []
   },
   "source": [
    "## References and readings\n",
    "\n",
    "- [Recurrent Neural Networks. Dive into Deep Learning](https://www.d2l.ai/chapter_recurrent-neural-networks/index.html)\n",
    "- [Machine Translation. Google Research](https://research.google/research-areas/machine-translation/)\n",
    "- [Automatic Speech Recognition (ASR), or Speech-to-Text](https://www.nvidia.com/en-us/glossary/speech-to-text/)\n",
    "- [Deep Visual-Semantic Alignments for Generating Image Descriptions](https://cs.stanford.edu/people/karpathy/deepimagesent/)\n",
    "- [The Unreasonable Effectiveness of Recurrent Neural Networks](https://karpathy.github.io/2015/05/21/rnn-effectiveness/)\n"
   ]
  }
 ],
 "metadata": {
  "kernelspec": {
   "display_name": ".venv",
   "language": "python",
   "name": "python3"
  },
  "language_info": {
   "codemirror_mode": {
    "name": "ipython",
    "version": 3
   },
   "file_extension": ".py",
   "mimetype": "text/x-python",
   "name": "python",
   "nbconvert_exporter": "python",
   "pygments_lexer": "ipython3",
   "version": "3.12.5"
  },
  "papermill": {
   "default_parameters": {},
   "duration": 1.181018,
   "end_time": "2025-01-13T14:53:07.832388",
   "environment_variables": {},
   "exception": null,
   "input_path": "05-intro.ipynb",
   "output_path": "05-intro.ipynb",
   "parameters": {},
   "start_time": "2025-01-13T14:53:06.651370",
   "version": "2.6.0"
  }
 },
 "nbformat": 4,
 "nbformat_minor": 5
}
